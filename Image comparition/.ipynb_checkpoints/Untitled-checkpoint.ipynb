{
 "cells": [
  {
   "cell_type": "code",
   "execution_count": 1,
   "id": "8136e0d1-eb84-489f-bf55-de8d16c24fac",
   "metadata": {
    "execution": {
     "iopub.execute_input": "2022-04-04T18:56:02.701186Z",
     "iopub.status.busy": "2022-04-04T18:56:02.700188Z",
     "iopub.status.idle": "2022-04-04T18:56:02.794877Z",
     "shell.execute_reply": "2022-04-04T18:56:02.793878Z",
     "shell.execute_reply.started": "2022-04-04T18:56:02.701186Z"
    }
   },
   "outputs": [],
   "source": [
    "import cv2"
   ]
  },
  {
   "cell_type": "code",
   "execution_count": 4,
   "id": "fa7aa564-6b0c-4c5a-8031-4dc5f30ae57d",
   "metadata": {
    "execution": {
     "iopub.execute_input": "2022-04-04T18:59:38.344330Z",
     "iopub.status.busy": "2022-04-04T18:59:38.343330Z",
     "iopub.status.idle": "2022-04-04T18:59:38.372329Z",
     "shell.execute_reply": "2022-04-04T18:59:38.371329Z",
     "shell.execute_reply.started": "2022-04-04T18:59:38.344330Z"
    },
    "tags": []
   },
   "outputs": [],
   "source": [
    "cv2.imread('Image21615.jpeg')"
   ]
  },
  {
   "cell_type": "code",
   "execution_count": null,
   "id": "d800fe41-e492-49d1-96be-5a0d1d8bd8f6",
   "metadata": {},
   "outputs": [],
   "source": []
  }
 ],
 "metadata": {
  "kernelspec": {
   "display_name": "Python [conda env:ai_ml] *",
   "language": "python",
   "name": "conda-env-ai_ml-py"
  },
  "language_info": {
   "codemirror_mode": {
    "name": "ipython",
    "version": 3
   },
   "file_extension": ".py",
   "mimetype": "text/x-python",
   "name": "python",
   "nbconvert_exporter": "python",
   "pygments_lexer": "ipython3",
   "version": "3.8.12"
  }
 },
 "nbformat": 4,
 "nbformat_minor": 5
}
